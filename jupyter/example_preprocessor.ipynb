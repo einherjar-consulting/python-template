{
 "cells": [
  {
   "cell_type": "markdown",
   "metadata": {},
   "source": [
    "# Preprocessor Example\n",
    "\n",
    "This Jupyter notebook shows how a pre-processor can be deserialized from a YAML description. The `deserialize_compose_transformation` function takes a configuration and creates a composition of torchvision transformations that can be used for converting the data into correct format for the network.\n",
    "\n",
    "Before you can execute this example, you need to install the `python_template` package by running from the following from the root of this repo:\n",
    "\n",
    "```bash\n",
    "pip install --editable .\n",
    "```"
   ]
  },
  {
   "cell_type": "code",
   "execution_count": null,
   "metadata": {},
   "outputs": [],
   "source": [
    "import yaml\n",
    "from python_template.config import get_project_root\n",
    "from python_template.preprocessing import deserialize_compose_transformation, literal_evaluation\n",
    "import torch"
   ]
  },
  {
   "cell_type": "code",
   "execution_count": null,
   "metadata": {},
   "outputs": [],
   "source": [
    "print(f\"Project root directory: {get_project_root()}\")"
   ]
  },
  {
   "cell_type": "code",
   "execution_count": null,
   "metadata": {},
   "outputs": [],
   "source": [
    "configuration = yaml.safe_load(\"\"\"\n",
    "ToDtype:\n",
    "  dtype: \"torch.float16\"\n",
    "Resize:\n",
    "  size: (20, 30)\n",
    "\"\"\")\n",
    "\n",
    "image = torch.ones((3, 50, 50))\n",
    "processor = deserialize_compose_transformation(configuration=configuration, verbose=False)\n",
    "image_processed = processor(image)\n",
    "\n",
    "print(f\"Original image shape: {image.shape}\")\n",
    "print(f\"Original image dtype: {image.dtype}\")\n",
    "print(f\"Processed image shape: {image_processed.shape}\")\n",
    "print(f\"Processed image dtype: {image_processed.dtype}\")"
   ]
  }
 ],
 "metadata": {
  "kernelspec": {
   "display_name": "pytorch-gpu",
   "language": "python",
   "name": "python3"
  },
  "language_info": {
   "codemirror_mode": {
    "name": "ipython",
    "version": 3
   },
   "file_extension": ".py",
   "mimetype": "text/x-python",
   "name": "python",
   "nbconvert_exporter": "python",
   "pygments_lexer": "ipython3",
   "version": "3.10.14"
  }
 },
 "nbformat": 4,
 "nbformat_minor": 2
}
