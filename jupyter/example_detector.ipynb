{
 "cells": [
  {
   "cell_type": "markdown",
   "metadata": {},
   "source": [
    "# Detector Example\n",
    "\n",
    "This Jupyter notebook shows how deep-learning \"engines\" can be created, so that these have a standard API. In the example shown in this notebook, pre-processor parameters are read from the YAML file. The idea can be extended so that the actual detector type, weights and the post-processing parameters are also passed. All the deep-learning \"engines\" implement the following functions in order to have a standard API:\n",
    "* `preprocess`\n",
    "* `process`\n",
    "* `postprocess`\n",
    "* `visualize`\n",
    "\n",
    "```python\n",
    "class Detector:\n",
    "    def __init__(self)\n",
    "    def preprocess(self, image)\n",
    "    def process(self, image)\n",
    "    def postprocess(self, results)\n",
    "    def visualize(self, results)\n",
    "```\n",
    "\n",
    "Before you can execute this example, you need to install the `python_template` package by running from the following from the root of this repo:\n",
    "\n",
    "```bash\n",
    "pip install --editable .\n",
    "```"
   ]
  },
  {
   "cell_type": "code",
   "execution_count": null,
   "metadata": {},
   "outputs": [],
   "source": [
    "import yaml\n",
    "from torchvision.io.image import read_image\n",
    "from python_template.detector.detector import Detector\n",
    "from PIL import Image\n",
    "import matplotlib.pyplot as plt\n",
    "import numpy as np\n",
    "import torch"
   ]
  },
  {
   "cell_type": "code",
   "execution_count": null,
   "metadata": {},
   "outputs": [],
   "source": [
    "# Detector configuration\n",
    "configuration = yaml.safe_load(\"\"\"\n",
    "Preprocessor:\n",
    "  ToImage: null\n",
    "  ToDtype:\n",
    "    dtype: \"torch.uint8\"\n",
    "\"\"\")\n",
    "\n",
    "# Create the detector instance\n",
    "detector = Detector(configuration=configuration)"
   ]
  },
  {
   "cell_type": "code",
   "execution_count": null,
   "metadata": {},
   "outputs": [],
   "source": [
    "# Load image and convert to tensor for displaying the results later on\n",
    "image_np = np.array(Image.open(\"Mae_Carol_Jemison.jpg\"))\n",
    "image_tensor = torch.from_numpy(image_np).permute(2, 0, 1)\n",
    "\n",
    "# Preprocess image\n",
    "image_preprocessed = detector.preprocess(image_np)\n",
    "\n",
    "# Process image\n",
    "predictions = detector.process(image_preprocessed)[0]\n",
    "\n",
    "# Postprocess the predictions in order to get the results\n",
    "results = detector.postprocess(predictions)\n",
    "\n",
    "# Obtain image for visualization\n",
    "image_with_bbox = detector.visualize(image=image_tensor, results=results)"
   ]
  },
  {
   "cell_type": "code",
   "execution_count": null,
   "metadata": {},
   "outputs": [],
   "source": [
    "plt.imshow(image_with_bbox)\n",
    "plt.axis(\"off\")\n",
    "plt.title(\"Astronaut Mae Carol Jemison\")\n",
    "plt.show()"
   ]
  }
 ],
 "metadata": {
  "kernelspec": {
   "display_name": "pytorch-cpu",
   "language": "python",
   "name": "python3"
  },
  "language_info": {
   "codemirror_mode": {
    "name": "ipython",
    "version": 3
   },
   "file_extension": ".py",
   "mimetype": "text/x-python",
   "name": "python",
   "nbconvert_exporter": "python",
   "pygments_lexer": "ipython3",
   "version": "3.10.14"
  }
 },
 "nbformat": 4,
 "nbformat_minor": 2
}
